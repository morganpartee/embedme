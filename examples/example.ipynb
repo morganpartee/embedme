{
 "cells": [
  {
   "cell_type": "code",
   "execution_count": 1,
   "metadata": {},
   "outputs": [
    {
     "ename": "ModuleNotFoundError",
     "evalue": "No module named 'embedme'",
     "output_type": "error",
     "traceback": [
      "\u001b[1;31m---------------------------------------------------------------------------\u001b[0m",
      "\u001b[1;31mModuleNotFoundError\u001b[0m                       Traceback (most recent call last)",
      "Cell \u001b[1;32mIn[1], line 3\u001b[0m\n\u001b[0;32m      1\u001b[0m \u001b[39mimport\u001b[39;00m \u001b[39mopenai\u001b[39;00m\n\u001b[0;32m      2\u001b[0m \u001b[39mimport\u001b[39;00m \u001b[39mnltk\u001b[39;00m\n\u001b[1;32m----> 3\u001b[0m \u001b[39mfrom\u001b[39;00m \u001b[39membedme\u001b[39;00m \u001b[39mimport\u001b[39;00m Embedme\n\u001b[0;32m      5\u001b[0m \u001b[39m# Downloading the NLTK corpus\u001b[39;00m\n\u001b[0;32m      6\u001b[0m nltk\u001b[39m.\u001b[39mdownload(\u001b[39m'\u001b[39m\u001b[39mgutenberg\u001b[39m\u001b[39m'\u001b[39m)\n",
      "\u001b[1;31mModuleNotFoundError\u001b[0m: No module named 'embedme'"
     ]
    }
   ],
   "source": [
    "import openai\n",
    "import nltk\n",
    "from embedme import Embedme\n",
    "\n",
    "# Downloading the NLTK corpus\n",
    "nltk.download('gutenberg')\n",
    "\n",
    "# Creating an instance of the Embedme class\n",
    "embedme = Embedme(data_folder='.embedme', model=\"text-embedding-ada-002\")\n",
    "\n",
    "# Getting the text\n",
    "text = nltk.corpus.gutenberg.raw('melville-moby_dick.txt')\n",
    "\n",
    "# Splitting the text into paragraphs\n",
    "paragraphs = text.split(\"\\n\\n\")\n",
    "\n",
    "for i, para in enumerate(paragraphs):\n",
    "    data = {'name': f'moby_dick_para_{i}', 'text': para, 'meta': {'text': 'Moby Dick by Herman Melville'}}\n",
    "    embedme.add(data)\n",
    "\n",
    "# Searching the vectors\n",
    "result = embedme.search(\"example text\")\n",
    "\n",
    "# Printing the result\n",
    "print(result)\n"
   ]
  },
  {
   "cell_type": "code",
   "execution_count": null,
   "metadata": {},
   "outputs": [],
   "source": []
  }
 ],
 "metadata": {
  "kernelspec": {
   "display_name": "Python 3",
   "language": "python",
   "name": "python3"
  },
  "language_info": {
   "codemirror_mode": {
    "name": "ipython",
    "version": 3
   },
   "file_extension": ".py",
   "mimetype": "text/x-python",
   "name": "python",
   "nbconvert_exporter": "python",
   "pygments_lexer": "ipython3",
   "version": "3.10.6"
  },
  "orig_nbformat": 4,
  "vscode": {
   "interpreter": {
    "hash": "215770cb51d250d45b51098c31b643fe015e8873cd529a92f0a276ac79e03ded"
   }
  }
 },
 "nbformat": 4,
 "nbformat_minor": 2
}
