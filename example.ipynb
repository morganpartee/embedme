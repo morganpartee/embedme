{
 "cells": [
  {
   "cell_type": "code",
   "execution_count": 1,
   "metadata": {},
   "outputs": [
    {
     "name": "stdout",
     "output_type": "stream",
     "text": [
      "Requirement already satisfied: openai in c:\\users\\morga\\appdata\\local\\programs\\python\\python310\\lib\\site-packages (0.26.0)\n",
      "Requirement already satisfied: nltk in c:\\users\\morga\\appdata\\local\\programs\\python\\python310\\lib\\site-packages (3.8)\n",
      "Requirement already satisfied: more-itertools in c:\\users\\morga\\appdata\\local\\programs\\python\\python310\\lib\\site-packages (9.0.0)\n",
      "Requirement already satisfied: tqdm in c:\\users\\morga\\appdata\\local\\programs\\python\\python310\\lib\\site-packages (4.64.1)\n",
      "Requirement already satisfied: requests>=2.20 in c:\\users\\morga\\appdata\\local\\programs\\python\\python310\\lib\\site-packages (from openai) (2.28.1)\n",
      "Requirement already satisfied: aiohttp in c:\\users\\morga\\appdata\\local\\programs\\python\\python310\\lib\\site-packages (from openai) (3.8.3)\n",
      "Requirement already satisfied: regex>=2021.8.3 in c:\\users\\morga\\appdata\\local\\programs\\python\\python310\\lib\\site-packages (from nltk) (2022.10.31)\n",
      "Requirement already satisfied: joblib in c:\\users\\morga\\appdata\\local\\programs\\python\\python310\\lib\\site-packages (from nltk) (1.2.0)\n",
      "Requirement already satisfied: click in c:\\users\\morga\\appdata\\local\\programs\\python\\python310\\lib\\site-packages (from nltk) (8.1.3)\n",
      "Requirement already satisfied: colorama in c:\\users\\morga\\appdata\\local\\programs\\python\\python310\\lib\\site-packages (from tqdm) (0.4.6)\n",
      "Requirement already satisfied: certifi>=2017.4.17 in c:\\users\\morga\\appdata\\local\\programs\\python\\python310\\lib\\site-packages (from requests>=2.20->openai) (2022.12.7)\n",
      "Requirement already satisfied: urllib3<1.27,>=1.21.1 in c:\\users\\morga\\appdata\\local\\programs\\python\\python310\\lib\\site-packages (from requests>=2.20->openai) (1.26.13)\n",
      "Requirement already satisfied: charset-normalizer<3,>=2 in c:\\users\\morga\\appdata\\local\\programs\\python\\python310\\lib\\site-packages (from requests>=2.20->openai) (2.1.1)\n",
      "Requirement already satisfied: idna<4,>=2.5 in c:\\users\\morga\\appdata\\local\\programs\\python\\python310\\lib\\site-packages (from requests>=2.20->openai) (3.4)\n",
      "Requirement already satisfied: multidict<7.0,>=4.5 in c:\\users\\morga\\appdata\\local\\programs\\python\\python310\\lib\\site-packages (from aiohttp->openai) (6.0.4)\n",
      "Requirement already satisfied: frozenlist>=1.1.1 in c:\\users\\morga\\appdata\\local\\programs\\python\\python310\\lib\\site-packages (from aiohttp->openai) (1.3.3)\n",
      "Requirement already satisfied: aiosignal>=1.1.2 in c:\\users\\morga\\appdata\\local\\programs\\python\\python310\\lib\\site-packages (from aiohttp->openai) (1.3.1)\n",
      "Requirement already satisfied: async-timeout<5.0,>=4.0.0a3 in c:\\users\\morga\\appdata\\local\\programs\\python\\python310\\lib\\site-packages (from aiohttp->openai) (4.0.2)\n",
      "Requirement already satisfied: attrs>=17.3.0 in c:\\users\\morga\\appdata\\roaming\\python\\python310\\site-packages (from aiohttp->openai) (22.1.0)\n",
      "Requirement already satisfied: yarl<2.0,>=1.0 in c:\\users\\morga\\appdata\\local\\programs\\python\\python310\\lib\\site-packages (from aiohttp->openai) (1.8.2)\n"
     ]
    },
    {
     "name": "stderr",
     "output_type": "stream",
     "text": [
      "\n",
      "[notice] A new release of pip available: 22.2.2 -> 22.3.1\n",
      "[notice] To update, run: python.exe -m pip install --upgrade pip\n"
     ]
    }
   ],
   "source": [
    "!pip install openai nltk more-itertools tqdm embedme"
   ]
  },
  {
   "cell_type": "code",
   "execution_count": 2,
   "metadata": {},
   "outputs": [
    {
     "name": "stderr",
     "output_type": "stream",
     "text": [
      "[nltk_data] Downloading package gutenberg to E:\\nltk_data...\n",
      "[nltk_data]   Package gutenberg is already up-to-date!\n",
      "493it [00:55,  8.93it/s]\n"
     ]
    }
   ],
   "source": [
    "import openai\n",
    "import nltk\n",
    "from more_itertools import chunked\n",
    "from embedme import Embedme\n",
    "from tqdm import tqdm\n",
    "\n",
    "# Downloading the NLTK corpus\n",
    "nltk.download('gutenberg')\n",
    "\n",
    "# Creating an instance of the Embedme class\n",
    "embedme = Embedme(data_folder='.embedme', model=\"text-embedding-ada-002\")\n",
    "\n",
    "# Getting the text\n",
    "text = nltk.corpus.gutenberg.raw('melville-moby_dick.txt')\n",
    "\n",
    "# Splitting the text into sentences\n",
    "sentences = nltk.sent_tokenize(text)\n",
    "\n",
    "input(\"Hey this call will cost you money and take a minute. Like, a few cents probably, but wanted to warn you.\")\n",
    "\n",
    "for i, chunk in enumerate(tqdm(chunked(sentences, 20))):\n",
    "    data = {'name': f'moby_dick_chunk_{i}', 'text': ' '.join(chunk)}\n",
    "    embedme.add(data, save=False)\n",
    "\n",
    "embedme.save()\n",
    "\n"
   ]
  },
  {
   "cell_type": "code",
   "execution_count": 1,
   "metadata": {},
   "outputs": [],
   "source": [
    "# ...later\n",
    "from embedme import Embedme\n",
    "\n",
    "# Creating an instance of the Embedme class\n",
    "embedme = Embedme()\n",
    "\n",
    "embedme.load()"
   ]
  },
  {
   "cell_type": "code",
   "execution_count": 3,
   "metadata": {},
   "outputs": [
    {
     "data": {
      "text/plain": [
       "{'moby_dick_chunk_9': {'meta': {'name': 'moby_dick_chunk_9',\n",
       "   'text': 'To the finny people\\'s king. Not a mightier whale than this\\r\\nIn the vast Atlantic is;\\r\\nNot a fatter fish than he,\\r\\nFlounders round the Polar Sea.\" --CHARLES LAMB\\'S TRIUMPH OF THE\\r\\nWHALE. \"In the year 1690 some persons were on a high hill observing the\\r\\nwhales spouting and sporting with each other, when one observed:\\r\\nthere--pointing to the sea--is a green pasture where our children\\'s\\r\\ngrand-children will go for bread.\" --OBED MACY\\'S HISTORY OF\\r\\nNANTUCKET. \"I built a cottage for Susan and myself and made a gateway in the\\r\\nform of a Gothic Arch, by setting up a whale\\'s jaw bones.\" --HAWTHORNE\\'S TWICE TOLD TALES. \"She came to bespeak a monument for her first love, who had been\\r\\nkilled by a whale in the Pacific ocean, no less than forty years\\r\\nago.\" --IBID. \"No, Sir, \\'tis a Right Whale,\" answered Tom; \"I saw his sprout; he\\r\\nthrew up a pair of as pretty rainbows as a Christian would wish to\\r\\nlook at. He\\'s a raal oil-butt, that fellow!\" --COOPER\\'S PILOT. \"The papers were brought in, and we saw in the Berlin Gazette that\\r\\nwhales had been introduced on the stage there.\" --ECKERMANN\\'S\\r\\nCONVERSATIONS WITH GOETHE. \"My God! Mr. Chace, what is the matter?\" I answered, \"we have been\\r\\nstove by a whale.\" --\"NARRATIVE OF THE SHIPWRECK OF THE WHALE SHIP\\r\\nESSEX OF NANTUCKET, WHICH WAS ATTACKED AND FINALLY DESTROYED BY A\\r\\nLARGE SPERM WHALE IN THE PACIFIC OCEAN.\" BY OWEN CHACE OF NANTUCKET,\\r\\nFIRST MATE OF SAID VESSEL. NEW YORK, 1821.'}},\n",
       " 'moby_dick_chunk_11': {'meta': {'name': 'moby_dick_chunk_11',\n",
       "   'text': 'Do you see that whale now?\" \"Ay ay, sir! A shoal of Sperm Whales! There she blows! There she\\r\\nbreaches!\" \"Sing out! sing out every time!\" \"Ay Ay, sir! There she blows! there--there--THAR she\\r\\nblows--bowes--bo-o-os!\" \"How far off?\" \"Two miles and a half.\" \"Thunder and lightning! so near! Call all hands.\" --J. ROSS BROWNE\\'S\\r\\nETCHINGS OF A WHALING CRUIZE. 1846. \"The Whale-ship Globe, on board of which vessel occurred the horrid\\r\\ntransactions we are about to relate, belonged to the island of\\r\\nNantucket.\" --\"NARRATIVE OF THE GLOBE,\" BY LAY AND HUSSEY SURVIVORS. A.D. 1828.'}},\n",
       " 'moby_dick_chunk_13': {'meta': {'name': 'moby_dick_chunk_13',\n",
       "   'text': 'U.S. EX. EX. \"Pedestrians in the vicinity of London and elsewhere may recollect\\r\\nhaving seen large curved bones set upright in the earth, either to\\r\\nform arches over gateways, or entrances to alcoves, and they may\\r\\nperhaps have been told that these were the ribs of whales.\" --TALES\\r\\nOF A WHALE VOYAGER TO THE ARCTIC OCEAN. \"It was not till the boats returned from the pursuit of these whales,\\r\\nthat the whites saw their ship in bloody possession of the savages\\r\\nenrolled among the crew.\" --NEWSPAPER ACCOUNT OF THE TAKING AND\\r\\nRETAKING OF THE WHALE-SHIP HOBOMACK. \"It is generally well known that out of the crews of Whaling vessels\\r\\n(American) few ever return in the ships on board of which they\\r\\ndeparted.\" --CRUISE IN A WHALE BOAT. \"Suddenly a mighty mass emerged from the water, and shot up\\r\\nperpendicularly into the air. It was the while.\" --MIRIAM COFFIN OR\\r\\nTHE WHALE FISHERMAN. \"The Whale is harpooned to be sure; but bethink you, how you would\\r\\nmanage a powerful unbroken colt, with the mere appliance of a rope\\r\\ntied to the root of his tail.\" --A CHAPTER ON WHALING IN RIBS AND\\r\\nTRUCKS. \"On one occasion I saw two of these monsters (whales) probably male\\r\\nand female, slowly swimming, one after the other, within less than a\\r\\nstone\\'s throw of the shore\" (Terra Del Fuego), \"over which the beech\\r\\ntree extended its branches.\" --DARWIN\\'S VOYAGE OF A NATURALIST. \"\\'Stern all!\\' exclaimed the mate, as upon turning his head, he saw\\r\\nthe distended jaws of a large Sperm Whale close to the head of the\\r\\nboat, threatening it with instant destruction;--\\'Stern all, for your\\r\\nlives!\\'\" --WHARTON THE WHALE KILLER. \"So be cheery, my lads, let your hearts never fail,\\r\\nWhile the bold harpooneer is striking the whale!\" --NANTUCKET SONG.'}},\n",
       " 'moby_dick_chunk_3': {'meta': {'name': 'moby_dick_chunk_3',\n",
       "   'text': 'The best whales were catched in his\\r\\nown country, of which some were forty-eight, some fifty yards long. He said that he was one of six who had killed sixty in two days.\" --OTHER OR OCTHER\\'S VERBAL NARRATIVE TAKEN DOWN FROM HIS MOUTH BY\\r\\nKING ALFRED, A.D. 890. \"And whereas all the other things, whether beast or vessel, that\\r\\nenter into the dreadful gulf of this monster\\'s (whale\\'s) mouth, are\\r\\nimmediately lost and swallowed up, the sea-gudgeon retires into it in\\r\\ngreat security, and there sleeps.\" --MONTAIGNE. --APOLOGY FOR\\r\\nRAIMOND SEBOND. \"Let us fly, let us fly! Old Nick take me if is not Leviathan\\r\\ndescribed by the noble prophet Moses in the life of patient Job.\" --RABELAIS. \"This whale\\'s liver was two cartloads.\" --STOWE\\'S ANNALS. \"The great Leviathan that maketh the seas to seethe like boiling\\r\\npan.\" --LORD BACON\\'S VERSION OF THE PSALMS. \"Touching that monstrous bulk of the whale or ork we have received\\r\\nnothing certain. They grow exceeding fat, insomuch that an\\r\\nincredible quantity of oil will be extracted out of one whale.\" --IBID. \"HISTORY OF LIFE AND DEATH.\" \"The sovereignest thing on earth is parmacetti for an inward bruise.\" --KING HENRY. \"Very like a whale.\"'}},\n",
       " 'moby_dick_chunk_5': {'meta': {'name': 'moby_dick_chunk_5',\n",
       "   'text': '\"The mighty whales which swim in a sea of water, and have a sea of\\r\\noil swimming in them.\" --FULLLER\\'S PROFANE AND HOLY STATE. \"So close behind some promontory lie\\r\\nThe huge Leviathan to attend their prey,\\r\\nAnd give no chance, but swallow in the fry,\\r\\nWhich through their gaping jaws mistake the way.\" --DRYDEN\\'S ANNUS MIRABILIS. \"While the whale is floating at the stern of the ship, they cut off\\r\\nhis head, and tow it with a boat as near the shore as it will come;\\r\\nbut it will be aground in twelve or thirteen feet water.\" --THOMAS\\r\\nEDGE\\'S TEN VOYAGES TO SPITZBERGEN, IN PURCHAS. \"In their way they saw many whales sporting in the ocean, and in\\r\\nwantonness fuzzing up the water through their pipes and vents, which\\r\\nnature has placed on their shoulders.\" --SIR T. HERBERT\\'S VOYAGES\\r\\nINTO ASIA AND AFRICA. HARRIS COLL. \"Here they saw such huge troops of whales, that they were forced to\\r\\nproceed with a great deal of caution for fear they should run their\\r\\nship upon them.\" --SCHOUTEN\\'S SIXTH CIRCUMNAVIGATION. \"We set sail from the Elbe, wind N.E. in the ship called The\\r\\nJonas-in-the-Whale. ... Some say the whale can\\'t open his mouth, but\\r\\nthat is a fable. ... They frequently climb up the masts to see\\r\\nwhether they can see a whale, for the first discoverer has a ducat\\r\\nfor his pains. ... I was told of a whale taken near Shetland, that\\r\\nhad above a barrel of herrings in his belly. ...  One of our\\r\\nharpooneers told me that he caught once a whale in Spitzbergen that\\r\\nwas white all over.\"'}}}"
      ]
     },
     "execution_count": 3,
     "metadata": {},
     "output_type": "execute_result"
    }
   ],
   "source": [
    "embedme.search(\"whale\", 5)"
   ]
  },
  {
   "cell_type": "code",
   "execution_count": null,
   "metadata": {},
   "outputs": [],
   "source": []
  }
 ],
 "metadata": {
  "kernelspec": {
   "display_name": "Python 3",
   "language": "python",
   "name": "python3"
  },
  "language_info": {
   "codemirror_mode": {
    "name": "ipython",
    "version": 3
   },
   "file_extension": ".py",
   "mimetype": "text/x-python",
   "name": "python",
   "nbconvert_exporter": "python",
   "pygments_lexer": "ipython3",
   "version": "3.10.6 (tags/v3.10.6:9c7b4bd, Aug  1 2022, 21:53:49) [MSC v.1932 64 bit (AMD64)]"
  },
  "orig_nbformat": 4,
  "vscode": {
   "interpreter": {
    "hash": "215770cb51d250d45b51098c31b643fe015e8873cd529a92f0a276ac79e03ded"
   }
  }
 },
 "nbformat": 4,
 "nbformat_minor": 2
}
