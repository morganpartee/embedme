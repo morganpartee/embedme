{
 "cells": [
  {
   "cell_type": "code",
   "execution_count": 1,
   "metadata": {},
   "outputs": [
    {
     "name": "stdout",
     "output_type": "stream",
     "text": [
      "Requirement already satisfied: openai in c:\\users\\morga\\appdata\\local\\programs\\python\\python310\\lib\\site-packages (0.26.0)\n",
      "Requirement already satisfied: nltk in c:\\users\\morga\\appdata\\local\\programs\\python\\python310\\lib\\site-packages (3.8)\n",
      "Requirement already satisfied: more-itertools in c:\\users\\morga\\appdata\\local\\programs\\python\\python310\\lib\\site-packages (9.0.0)\n",
      "Requirement already satisfied: tqdm in c:\\users\\morga\\appdata\\local\\programs\\python\\python310\\lib\\site-packages (4.64.1)\n",
      "Requirement already satisfied: requests>=2.20 in c:\\users\\morga\\appdata\\local\\programs\\python\\python310\\lib\\site-packages (from openai) (2.28.1)\n",
      "Requirement already satisfied: aiohttp in c:\\users\\morga\\appdata\\local\\programs\\python\\python310\\lib\\site-packages (from openai) (3.8.3)\n",
      "Requirement already satisfied: regex>=2021.8.3 in c:\\users\\morga\\appdata\\local\\programs\\python\\python310\\lib\\site-packages (from nltk) (2022.10.31)\n",
      "Requirement already satisfied: joblib in c:\\users\\morga\\appdata\\local\\programs\\python\\python310\\lib\\site-packages (from nltk) (1.2.0)\n",
      "Requirement already satisfied: click in c:\\users\\morga\\appdata\\local\\programs\\python\\python310\\lib\\site-packages (from nltk) (8.1.3)\n",
      "Requirement already satisfied: colorama in c:\\users\\morga\\appdata\\local\\programs\\python\\python310\\lib\\site-packages (from tqdm) (0.4.6)\n",
      "Requirement already satisfied: certifi>=2017.4.17 in c:\\users\\morga\\appdata\\local\\programs\\python\\python310\\lib\\site-packages (from requests>=2.20->openai) (2022.12.7)\n",
      "Requirement already satisfied: urllib3<1.27,>=1.21.1 in c:\\users\\morga\\appdata\\local\\programs\\python\\python310\\lib\\site-packages (from requests>=2.20->openai) (1.26.13)\n",
      "Requirement already satisfied: charset-normalizer<3,>=2 in c:\\users\\morga\\appdata\\local\\programs\\python\\python310\\lib\\site-packages (from requests>=2.20->openai) (2.1.1)\n",
      "Requirement already satisfied: idna<4,>=2.5 in c:\\users\\morga\\appdata\\local\\programs\\python\\python310\\lib\\site-packages (from requests>=2.20->openai) (3.4)\n",
      "Requirement already satisfied: multidict<7.0,>=4.5 in c:\\users\\morga\\appdata\\local\\programs\\python\\python310\\lib\\site-packages (from aiohttp->openai) (6.0.4)\n",
      "Requirement already satisfied: frozenlist>=1.1.1 in c:\\users\\morga\\appdata\\local\\programs\\python\\python310\\lib\\site-packages (from aiohttp->openai) (1.3.3)\n",
      "Requirement already satisfied: aiosignal>=1.1.2 in c:\\users\\morga\\appdata\\local\\programs\\python\\python310\\lib\\site-packages (from aiohttp->openai) (1.3.1)\n",
      "Requirement already satisfied: async-timeout<5.0,>=4.0.0a3 in c:\\users\\morga\\appdata\\local\\programs\\python\\python310\\lib\\site-packages (from aiohttp->openai) (4.0.2)\n",
      "Requirement already satisfied: attrs>=17.3.0 in c:\\users\\morga\\appdata\\roaming\\python\\python310\\site-packages (from aiohttp->openai) (22.1.0)\n",
      "Requirement already satisfied: yarl<2.0,>=1.0 in c:\\users\\morga\\appdata\\local\\programs\\python\\python310\\lib\\site-packages (from aiohttp->openai) (1.8.2)\n"
     ]
    },
    {
     "name": "stderr",
     "output_type": "stream",
     "text": [
      "\n",
      "[notice] A new release of pip available: 22.2.2 -> 22.3.1\n",
      "[notice] To update, run: python.exe -m pip install --upgrade pip\n"
     ]
    }
   ],
   "source": [
    "!pip install openai nltk more-itertools tqdm"
   ]
  },
  {
   "cell_type": "code",
   "execution_count": 2,
   "metadata": {},
   "outputs": [
    {
     "name": "stderr",
     "output_type": "stream",
     "text": [
      "[nltk_data] Downloading package gutenberg to E:\\nltk_data...\n",
      "[nltk_data]   Package gutenberg is already up-to-date!\n",
      "493it [00:55,  8.93it/s]\n"
     ]
    }
   ],
   "source": [
    "import openai\n",
    "import nltk\n",
    "from more_itertools import chunked\n",
    "from embedme import Embedme\n",
    "from tqdm import tqdm\n",
    "\n",
    "# Downloading the NLTK corpus\n",
    "nltk.download('gutenberg')\n",
    "\n",
    "# Creating an instance of the Embedme class\n",
    "embedme = Embedme(data_folder='.embedme', model=\"text-embedding-ada-002\")\n",
    "\n",
    "# Getting the text\n",
    "text = nltk.corpus.gutenberg.raw('melville-moby_dick.txt')\n",
    "\n",
    "# Splitting the text into sentences\n",
    "sentences = nltk.sent_tokenize(text)\n",
    "\n",
    "input(\"Hey this call will cost you money and take a minute. Like, a few cents probably, but wanted to warn you.\")\n",
    "\n",
    "for i, chunk in enumerate(tqdm(chunked(sentences, 20))):\n",
    "    data = {'name': f'moby_dick_chunk_{i}', 'text': ' '.join(chunk)}\n",
    "    embedme.add(data, save=False)\n",
    "\n",
    "embedme.save()\n",
    "\n"
   ]
  },
  {
   "cell_type": "code",
   "execution_count": 3,
   "metadata": {},
   "outputs": [],
   "source": [
    "# ...later\n",
    "\n",
    "# Creating an instance of the Embedme class\n",
    "embedme = Embedme(data_folder='.embedme', model=\"text-embedding-ada-002\")\n",
    "\n",
    "embedme.load()"
   ]
  },
  {
   "cell_type": "code",
   "execution_count": 8,
   "metadata": {},
   "outputs": [
    {
     "data": {
      "text/plain": [
       "[{'meta': {'name': 'moby_dick_chunk_334',\n",
       "   'text': \"case,\\r\\nwherein a gentleman, after in vain trying to bridle his wife's\\r\\nviciousness, had at last abandoned her upon the seas of life; but in\\r\\nthe course of years, repenting of that step, he instituted an action\\r\\nto recover possession of her. Erskine was on the other side; and he\\r\\nthen supported it by saying, that though the gentleman had originally\\r\\nharpooned the lady, and had once had her fast, and only by reason of\\r\\nthe great stress of her plunging viciousness, had at last abandoned\\r\\nher; yet abandon her he did, so that she became a loose-fish; and\\r\\ntherefore when a subsequent gentleman re-harpooned her, the lady then\\r\\nbecame that subsequent gentleman's property, along with whatever\\r\\nharpoon might have been found sticking in her. Now in the present case Erskine contended that the examples of the\\r\\nwhale and the lady were reciprocally illustrative of each other. These pleadings, and the counter pleadings, being duly heard, the\\r\\nvery learned Judge in set terms decided, to wit,--That as for the\\r\\nboat, he awarded it to the plaintiffs, because they had merely\\r\\nabandoned it to save their lives; but that with regard to the\\r\\ncontroverted whale, harpoons, and line, they belonged to the\\r\\ndefendants; the whale, because it was a Loose-Fish at the time of the\\r\\nfinal capture; and the harpoons and line because when the fish made\\r\\noff with them, it (the fish) acquired a property in those articles;\\r\\nand hence anybody who afterwards took the fish had a right to them. Now the defendants afterwards took the fish; ergo, the aforesaid\\r\\narticles were theirs. A common man looking at this decision of the very learned Judge,\\r\\nmight possibly object to it. But ploughed up to the primary rock of\\r\\nthe matter, the two great principles laid down in the twin whaling\\r\\nlaws previously quoted, and applied and elucidated by Lord\\r\\nEllenborough in the above cited case; these two laws touching\\r\\nFast-Fish and Loose-Fish, I say, will, on reflection, be found the\\r\\nfundamentals of all human jurisprudence; for notwithstanding its\\r\\ncomplicated tracery of sculpture, the Temple of the Law, like the\\r\\nTemple of the Philistines, has but two props to stand on. Is it not a saying in every one's mouth, Possession is half of the\\r\\nlaw: that is, regardless of how the thing came into possession? But\\r\\noften possession is the whole of the law. What are the sinews and\\r\\nsouls of Russian serfs and Republican slaves but Fast-Fish, whereof\\r\\npossession is the whole of the law? What to the rapacious landlord\\r\\nis the widow's last mite but a Fast-Fish? What is yonder undetected\\r\\nvillain's marble mansion with a door-plate for a waif; what is that\\r\\nbut a Fast-Fish? What is the ruinous discount which Mordecai, the\\r\\nbroker, gets from poor Woebegone, the bankrupt, on a loan to\\r\\nkeep Woebegone's family from starvation; what is that ruinous\\r\\ndiscount but a Fast-Fish? What is the Archbishop of Savesoul's\\r\\nincome of L100,000 seized from the scant bread and cheese of\\r\\nhundreds of thousands of broken-backed laborers (all sure of heaven\\r\\nwithout any of Savesoul's help) what is that globular L100,000 but a\\r\\nFast-Fish? What are the Duke of Dunder's hereditary towns and\\r\\nhamlets but Fast-Fish? What to that redoubted harpooneer, John Bull,\\r\\nis poor Ireland, but a Fast-Fish? What to that apostolic lancer,\\r\\nBrother Jonathan, is Texas but a Fast-Fish? And concerning all\\r\\nthese, is not Possession the whole of the law? But if the doctrine of Fast-Fish be pretty generally applicable, the\\r\\nkindred doctrine of Loose-Fish is still more widely so. That is\\r\\ninternationally and universally applicable.\"}}]"
      ]
     },
     "execution_count": 8,
     "metadata": {},
     "output_type": "execute_result"
    }
   ],
   "source": [
    "embedme.search(\"lessons\")"
   ]
  },
  {
   "cell_type": "code",
   "execution_count": null,
   "metadata": {},
   "outputs": [],
   "source": []
  }
 ],
 "metadata": {
  "kernelspec": {
   "display_name": "Python 3",
   "language": "python",
   "name": "python3"
  },
  "language_info": {
   "codemirror_mode": {
    "name": "ipython",
    "version": 3
   },
   "file_extension": ".py",
   "mimetype": "text/x-python",
   "name": "python",
   "nbconvert_exporter": "python",
   "pygments_lexer": "ipython3",
   "version": "3.10.6"
  },
  "orig_nbformat": 4,
  "vscode": {
   "interpreter": {
    "hash": "215770cb51d250d45b51098c31b643fe015e8873cd529a92f0a276ac79e03ded"
   }
  }
 },
 "nbformat": 4,
 "nbformat_minor": 2
}
