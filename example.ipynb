{
 "cells": [
  {
   "cell_type": "code",
   "execution_count": 1,
   "metadata": {},
   "outputs": [
    {
     "name": "stdout",
     "output_type": "stream",
     "text": [
      "Requirement already satisfied: openai in c:\\users\\morga\\appdata\\local\\programs\\python\\python310\\lib\\site-packages (0.26.0)\n",
      "Requirement already satisfied: nltk in c:\\users\\morga\\appdata\\local\\programs\\python\\python310\\lib\\site-packages (3.8)\n",
      "Requirement already satisfied: more-itertools in c:\\users\\morga\\appdata\\local\\programs\\python\\python310\\lib\\site-packages (9.0.0)\n",
      "Requirement already satisfied: tqdm in c:\\users\\morga\\appdata\\local\\programs\\python\\python310\\lib\\site-packages (4.64.1)\n",
      "Requirement already satisfied: requests>=2.20 in c:\\users\\morga\\appdata\\local\\programs\\python\\python310\\lib\\site-packages (from openai) (2.28.1)\n",
      "Requirement already satisfied: aiohttp in c:\\users\\morga\\appdata\\local\\programs\\python\\python310\\lib\\site-packages (from openai) (3.8.3)\n",
      "Requirement already satisfied: regex>=2021.8.3 in c:\\users\\morga\\appdata\\local\\programs\\python\\python310\\lib\\site-packages (from nltk) (2022.10.31)\n",
      "Requirement already satisfied: joblib in c:\\users\\morga\\appdata\\local\\programs\\python\\python310\\lib\\site-packages (from nltk) (1.2.0)\n",
      "Requirement already satisfied: click in c:\\users\\morga\\appdata\\local\\programs\\python\\python310\\lib\\site-packages (from nltk) (8.1.3)\n",
      "Requirement already satisfied: colorama in c:\\users\\morga\\appdata\\local\\programs\\python\\python310\\lib\\site-packages (from tqdm) (0.4.6)\n",
      "Requirement already satisfied: certifi>=2017.4.17 in c:\\users\\morga\\appdata\\local\\programs\\python\\python310\\lib\\site-packages (from requests>=2.20->openai) (2022.12.7)\n",
      "Requirement already satisfied: urllib3<1.27,>=1.21.1 in c:\\users\\morga\\appdata\\local\\programs\\python\\python310\\lib\\site-packages (from requests>=2.20->openai) (1.26.13)\n",
      "Requirement already satisfied: charset-normalizer<3,>=2 in c:\\users\\morga\\appdata\\local\\programs\\python\\python310\\lib\\site-packages (from requests>=2.20->openai) (2.1.1)\n",
      "Requirement already satisfied: idna<4,>=2.5 in c:\\users\\morga\\appdata\\local\\programs\\python\\python310\\lib\\site-packages (from requests>=2.20->openai) (3.4)\n",
      "Requirement already satisfied: multidict<7.0,>=4.5 in c:\\users\\morga\\appdata\\local\\programs\\python\\python310\\lib\\site-packages (from aiohttp->openai) (6.0.4)\n",
      "Requirement already satisfied: frozenlist>=1.1.1 in c:\\users\\morga\\appdata\\local\\programs\\python\\python310\\lib\\site-packages (from aiohttp->openai) (1.3.3)\n",
      "Requirement already satisfied: aiosignal>=1.1.2 in c:\\users\\morga\\appdata\\local\\programs\\python\\python310\\lib\\site-packages (from aiohttp->openai) (1.3.1)\n",
      "Requirement already satisfied: async-timeout<5.0,>=4.0.0a3 in c:\\users\\morga\\appdata\\local\\programs\\python\\python310\\lib\\site-packages (from aiohttp->openai) (4.0.2)\n",
      "Requirement already satisfied: attrs>=17.3.0 in c:\\users\\morga\\appdata\\roaming\\python\\python310\\site-packages (from aiohttp->openai) (22.1.0)\n",
      "Requirement already satisfied: yarl<2.0,>=1.0 in c:\\users\\morga\\appdata\\local\\programs\\python\\python310\\lib\\site-packages (from aiohttp->openai) (1.8.2)\n"
     ]
    },
    {
     "name": "stderr",
     "output_type": "stream",
     "text": [
      "\n",
      "[notice] A new release of pip available: 22.2.2 -> 22.3.1\n",
      "[notice] To update, run: python.exe -m pip install --upgrade pip\n"
     ]
    }
   ],
   "source": [
    "!pip install openai nltk more-itertools tqdm"
   ]
  },
  {
   "cell_type": "code",
   "execution_count": 2,
   "metadata": {},
   "outputs": [
    {
     "name": "stderr",
     "output_type": "stream",
     "text": [
      "[nltk_data] Downloading package gutenberg to E:\\nltk_data...\n",
      "[nltk_data]   Package gutenberg is already up-to-date!\n",
      "493it [00:55,  8.93it/s]\n"
     ]
    }
   ],
   "source": [
    "import openai\n",
    "import nltk\n",
    "from more_itertools import chunked\n",
    "from embedme import Embedme\n",
    "from tqdm import tqdm\n",
    "\n",
    "# Downloading the NLTK corpus\n",
    "nltk.download('gutenberg')\n",
    "\n",
    "# Creating an instance of the Embedme class\n",
    "embedme = Embedme(data_folder='.embedme', model=\"text-embedding-ada-002\")\n",
    "\n",
    "# Getting the text\n",
    "text = nltk.corpus.gutenberg.raw('melville-moby_dick.txt')\n",
    "\n",
    "# Splitting the text into sentences\n",
    "sentences = nltk.sent_tokenize(text)\n",
    "\n",
    "input(\"Hey this call will cost you money and take a minute. Like, a few cents probably, but wanted to warn you.\")\n",
    "\n",
    "for i, chunk in enumerate(tqdm(chunked(sentences, 20))):\n",
    "    data = {'name': f'moby_dick_chunk_{i}', 'text': ' '.join(chunk)}\n",
    "    embedme.add(data, save=False)\n",
    "\n",
    "embedme.save()\n",
    "\n"
   ]
  },
  {
   "cell_type": "code",
   "execution_count": 1,
   "metadata": {},
   "outputs": [],
   "source": [
    "# ...later\n",
    "from embedme import Embedme\n",
    "\n",
    "# Creating an instance of the Embedme class\n",
    "embedme = Embedme()\n",
    "\n",
    "embedme.load()"
   ]
  },
  {
   "cell_type": "code",
   "execution_count": 2,
   "metadata": {},
   "outputs": [
    {
     "data": {
      "text/plain": [
       "[{'meta': {'name': 'moby_dick_chunk_129',\n",
       "   'text': 'But they precisely\\r\\nagree in all their grand features; nor has there yet been presented a\\r\\nsingle determinate fact upon which to ground a radical distinction. It is by endless subdivisions based upon the most inconclusive\\r\\ndifferences, that some departments of natural history become so\\r\\nrepellingly intricate. The right whale will be elsewhere treated of\\r\\nat some length, with reference to elucidating the sperm whale. BOOK I. (FOLIO), CHAPTER III. (FIN-BACK).--Under this head I reckon a\\r\\nmonster which, by the various names of Fin-Back, Tall-Spout, and\\r\\nLong-John, has been seen almost in every sea and is commonly the\\r\\nwhale whose distant jet is so often descried by passengers crossing\\r\\nthe Atlantic, in the New York packet-tracks. In the length he\\r\\nattains, and in his baleen, the Fin-back resembles the right whale,\\r\\nbut is of a less portly girth, and a lighter colour, approaching to\\r\\nolive. His great lips present a cable-like aspect, formed by the\\r\\nintertwisting, slanting folds of large wrinkles. His grand\\r\\ndistinguishing feature, the fin, from which he derives his name, is\\r\\noften a conspicuous object. This fin is some three or four feet\\r\\nlong, growing vertically from the hinder part of the back, of an\\r\\nangular shape, and with a very sharp pointed end. Even if not the\\r\\nslightest other part of the creature be visible, this isolated fin\\r\\nwill, at times, be seen plainly projecting from the surface. When\\r\\nthe sea is moderately calm, and slightly marked with spherical\\r\\nripples, and this gnomon-like fin stands up and casts shadows upon\\r\\nthe wrinkled surface, it may well be supposed that the watery circle\\r\\nsurrounding it somewhat resembles a dial, with its style and wavy\\r\\nhour-lines graved on it. On that Ahaz-dial the shadow often goes\\r\\nback. The Fin-Back is not gregarious. He seems a whale-hater, as\\r\\nsome men are man-haters. Very shy; always going solitary;\\r\\nunexpectedly rising to the surface in the remotest and most sullen\\r\\nwaters; his straight and single lofty jet rising like a tall\\r\\nmisanthropic spear upon a barren plain; gifted with such wondrous\\r\\npower and velocity in swimming, as to defy all present pursuit from\\r\\nman; this leviathan seems the banished and unconquerable Cain of his\\r\\nrace, bearing for his mark that style upon his back. From having the\\r\\nbaleen in his mouth, the Fin-Back is sometimes included with the\\r\\nright whale, among a theoretic species denominated WHALEBONE WHALES,\\r\\nthat is, whales with baleen. Of these so called Whalebone whales,\\r\\nthere would seem to be several varieties, most of which, however, are\\r\\nlittle known. Broad-nosed whales and beaked whales; pike-headed\\r\\nwhales; bunched whales; under-jawed whales and rostrated whales, are\\r\\nthe fishermen\\'s names for a few sorts. In connection with this appellative of \"Whalebone whales,\" it is of\\r\\ngreat importance to mention, that however such a nomenclature may be\\r\\nconvenient in facilitating allusions to some kind of whales, yet it\\r\\nis in vain to attempt a clear classification of the Leviathan,\\r\\nfounded upon either his baleen, or hump, or fin, or teeth;\\r\\nnotwithstanding that those marked parts or features very obviously\\r\\nseem better adapted to afford the basis for a regular system of\\r\\nCetology than any other detached bodily distinctions, which the\\r\\nwhale, in his kinds, presents.'}}]"
      ]
     },
     "execution_count": 2,
     "metadata": {},
     "output_type": "execute_result"
    }
   ],
   "source": [
    "embedme.search(\"whale\")"
   ]
  }
 ],
 "metadata": {
  "kernelspec": {
   "display_name": "Python 3",
   "language": "python",
   "name": "python3"
  },
  "language_info": {
   "codemirror_mode": {
    "name": "ipython",
    "version": 3
   },
   "file_extension": ".py",
   "mimetype": "text/x-python",
   "name": "python",
   "nbconvert_exporter": "python",
   "pygments_lexer": "ipython3",
   "version": "3.10.6"
  },
  "orig_nbformat": 4,
  "vscode": {
   "interpreter": {
    "hash": "215770cb51d250d45b51098c31b643fe015e8873cd529a92f0a276ac79e03ded"
   }
  }
 },
 "nbformat": 4,
 "nbformat_minor": 2
}
